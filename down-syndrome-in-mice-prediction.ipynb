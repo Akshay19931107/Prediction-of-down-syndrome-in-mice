{
 "cells": [
  {
   "cell_type": "markdown",
   "id": "c683df09",
   "metadata": {},
   "source": [
    "# Prediction of down-syndrome in mice\n",
    "\n",
    "# Que 2 (a) (b)"
   ]
  },
  {
   "cell_type": "code",
   "execution_count": null,
   "id": "a80cf7ee",
   "metadata": {},
   "outputs": [],
   "source": [
    "# Que 2 (a)(b) are importing and EDA on given data"
   ]
  },
  {
   "cell_type": "code",
   "execution_count": 3,
   "id": "74fb75f4",
   "metadata": {},
   "outputs": [],
   "source": [
    "#import important libraries\n",
    "import numpy as np\n",
    "import pandas as pd\n",
    "import seaborn as sns\n",
    "import matplotlib.pyplot as plt\n",
    "from sklearn.ensemble import RandomForestClassifier\n",
    "from sklearn.model_selection import train_test_split\n",
    "from sklearn.metrics import accuracy_score,f1_score, confusion_matrix, r2_score"
   ]
  },
  {
   "cell_type": "code",
   "execution_count": 2,
   "id": "0fd5c717",
   "metadata": {},
   "outputs": [],
   "source": [
    "# read data with pd\n",
    "df = pd.read_excel(\"Data_Cortex_Nuclear.xls\")"
   ]
  },
  {
   "cell_type": "code",
   "execution_count": 3,
   "id": "12e4f5bb",
   "metadata": {},
   "outputs": [
    {
     "data": {
      "text/html": [
       "<div>\n",
       "<style scoped>\n",
       "    .dataframe tbody tr th:only-of-type {\n",
       "        vertical-align: middle;\n",
       "    }\n",
       "\n",
       "    .dataframe tbody tr th {\n",
       "        vertical-align: top;\n",
       "    }\n",
       "\n",
       "    .dataframe thead th {\n",
       "        text-align: right;\n",
       "    }\n",
       "</style>\n",
       "<table border=\"1\" class=\"dataframe\">\n",
       "  <thead>\n",
       "    <tr style=\"text-align: right;\">\n",
       "      <th></th>\n",
       "      <th>MouseID</th>\n",
       "      <th>DYRK1A_N</th>\n",
       "      <th>ITSN1_N</th>\n",
       "      <th>BDNF_N</th>\n",
       "      <th>NR1_N</th>\n",
       "      <th>NR2A_N</th>\n",
       "      <th>pAKT_N</th>\n",
       "      <th>pBRAF_N</th>\n",
       "      <th>pCAMKII_N</th>\n",
       "      <th>pCREB_N</th>\n",
       "      <th>...</th>\n",
       "      <th>pCFOS_N</th>\n",
       "      <th>SYP_N</th>\n",
       "      <th>H3AcK18_N</th>\n",
       "      <th>EGR1_N</th>\n",
       "      <th>H3MeK4_N</th>\n",
       "      <th>CaNA_N</th>\n",
       "      <th>Genotype</th>\n",
       "      <th>Treatment</th>\n",
       "      <th>Behavior</th>\n",
       "      <th>class</th>\n",
       "    </tr>\n",
       "  </thead>\n",
       "  <tbody>\n",
       "    <tr>\n",
       "      <th>0</th>\n",
       "      <td>309_1</td>\n",
       "      <td>0.503644</td>\n",
       "      <td>0.747193</td>\n",
       "      <td>0.430175</td>\n",
       "      <td>2.816329</td>\n",
       "      <td>5.990152</td>\n",
       "      <td>0.218830</td>\n",
       "      <td>0.177565</td>\n",
       "      <td>2.373744</td>\n",
       "      <td>0.232224</td>\n",
       "      <td>...</td>\n",
       "      <td>0.108336</td>\n",
       "      <td>0.427099</td>\n",
       "      <td>0.114783</td>\n",
       "      <td>0.131790</td>\n",
       "      <td>0.128186</td>\n",
       "      <td>1.675652</td>\n",
       "      <td>Control</td>\n",
       "      <td>Memantine</td>\n",
       "      <td>C/S</td>\n",
       "      <td>c-CS-m</td>\n",
       "    </tr>\n",
       "    <tr>\n",
       "      <th>1</th>\n",
       "      <td>309_2</td>\n",
       "      <td>0.514617</td>\n",
       "      <td>0.689064</td>\n",
       "      <td>0.411770</td>\n",
       "      <td>2.789514</td>\n",
       "      <td>5.685038</td>\n",
       "      <td>0.211636</td>\n",
       "      <td>0.172817</td>\n",
       "      <td>2.292150</td>\n",
       "      <td>0.226972</td>\n",
       "      <td>...</td>\n",
       "      <td>0.104315</td>\n",
       "      <td>0.441581</td>\n",
       "      <td>0.111974</td>\n",
       "      <td>0.135103</td>\n",
       "      <td>0.131119</td>\n",
       "      <td>1.743610</td>\n",
       "      <td>Control</td>\n",
       "      <td>Memantine</td>\n",
       "      <td>C/S</td>\n",
       "      <td>c-CS-m</td>\n",
       "    </tr>\n",
       "    <tr>\n",
       "      <th>2</th>\n",
       "      <td>309_3</td>\n",
       "      <td>0.509183</td>\n",
       "      <td>0.730247</td>\n",
       "      <td>0.418309</td>\n",
       "      <td>2.687201</td>\n",
       "      <td>5.622059</td>\n",
       "      <td>0.209011</td>\n",
       "      <td>0.175722</td>\n",
       "      <td>2.283337</td>\n",
       "      <td>0.230247</td>\n",
       "      <td>...</td>\n",
       "      <td>0.106219</td>\n",
       "      <td>0.435777</td>\n",
       "      <td>0.111883</td>\n",
       "      <td>0.133362</td>\n",
       "      <td>0.127431</td>\n",
       "      <td>1.926427</td>\n",
       "      <td>Control</td>\n",
       "      <td>Memantine</td>\n",
       "      <td>C/S</td>\n",
       "      <td>c-CS-m</td>\n",
       "    </tr>\n",
       "    <tr>\n",
       "      <th>3</th>\n",
       "      <td>309_4</td>\n",
       "      <td>0.442107</td>\n",
       "      <td>0.617076</td>\n",
       "      <td>0.358626</td>\n",
       "      <td>2.466947</td>\n",
       "      <td>4.979503</td>\n",
       "      <td>0.222886</td>\n",
       "      <td>0.176463</td>\n",
       "      <td>2.152301</td>\n",
       "      <td>0.207004</td>\n",
       "      <td>...</td>\n",
       "      <td>0.111262</td>\n",
       "      <td>0.391691</td>\n",
       "      <td>0.130405</td>\n",
       "      <td>0.147444</td>\n",
       "      <td>0.146901</td>\n",
       "      <td>1.700563</td>\n",
       "      <td>Control</td>\n",
       "      <td>Memantine</td>\n",
       "      <td>C/S</td>\n",
       "      <td>c-CS-m</td>\n",
       "    </tr>\n",
       "    <tr>\n",
       "      <th>4</th>\n",
       "      <td>309_5</td>\n",
       "      <td>0.434940</td>\n",
       "      <td>0.617430</td>\n",
       "      <td>0.358802</td>\n",
       "      <td>2.365785</td>\n",
       "      <td>4.718679</td>\n",
       "      <td>0.213106</td>\n",
       "      <td>0.173627</td>\n",
       "      <td>2.134014</td>\n",
       "      <td>0.192158</td>\n",
       "      <td>...</td>\n",
       "      <td>0.110694</td>\n",
       "      <td>0.434154</td>\n",
       "      <td>0.118481</td>\n",
       "      <td>0.140314</td>\n",
       "      <td>0.148380</td>\n",
       "      <td>1.839730</td>\n",
       "      <td>Control</td>\n",
       "      <td>Memantine</td>\n",
       "      <td>C/S</td>\n",
       "      <td>c-CS-m</td>\n",
       "    </tr>\n",
       "  </tbody>\n",
       "</table>\n",
       "<p>5 rows × 82 columns</p>\n",
       "</div>"
      ],
      "text/plain": [
       "  MouseID  DYRK1A_N   ITSN1_N    BDNF_N     NR1_N    NR2A_N    pAKT_N  \\\n",
       "0   309_1  0.503644  0.747193  0.430175  2.816329  5.990152  0.218830   \n",
       "1   309_2  0.514617  0.689064  0.411770  2.789514  5.685038  0.211636   \n",
       "2   309_3  0.509183  0.730247  0.418309  2.687201  5.622059  0.209011   \n",
       "3   309_4  0.442107  0.617076  0.358626  2.466947  4.979503  0.222886   \n",
       "4   309_5  0.434940  0.617430  0.358802  2.365785  4.718679  0.213106   \n",
       "\n",
       "    pBRAF_N  pCAMKII_N   pCREB_N  ...   pCFOS_N     SYP_N  H3AcK18_N  \\\n",
       "0  0.177565   2.373744  0.232224  ...  0.108336  0.427099   0.114783   \n",
       "1  0.172817   2.292150  0.226972  ...  0.104315  0.441581   0.111974   \n",
       "2  0.175722   2.283337  0.230247  ...  0.106219  0.435777   0.111883   \n",
       "3  0.176463   2.152301  0.207004  ...  0.111262  0.391691   0.130405   \n",
       "4  0.173627   2.134014  0.192158  ...  0.110694  0.434154   0.118481   \n",
       "\n",
       "     EGR1_N  H3MeK4_N    CaNA_N  Genotype  Treatment  Behavior   class  \n",
       "0  0.131790  0.128186  1.675652   Control  Memantine       C/S  c-CS-m  \n",
       "1  0.135103  0.131119  1.743610   Control  Memantine       C/S  c-CS-m  \n",
       "2  0.133362  0.127431  1.926427   Control  Memantine       C/S  c-CS-m  \n",
       "3  0.147444  0.146901  1.700563   Control  Memantine       C/S  c-CS-m  \n",
       "4  0.140314  0.148380  1.839730   Control  Memantine       C/S  c-CS-m  \n",
       "\n",
       "[5 rows x 82 columns]"
      ]
     },
     "execution_count": 3,
     "metadata": {},
     "output_type": "execute_result"
    }
   ],
   "source": [
    "df.head()"
   ]
  },
  {
   "cell_type": "code",
   "execution_count": 4,
   "id": "5875f14f",
   "metadata": {},
   "outputs": [
    {
     "data": {
      "text/plain": [
       "(1080, 82)"
      ]
     },
     "execution_count": 4,
     "metadata": {},
     "output_type": "execute_result"
    }
   ],
   "source": [
    "df.shape"
   ]
  },
  {
   "cell_type": "code",
   "execution_count": 5,
   "id": "3a13794b",
   "metadata": {},
   "outputs": [
    {
     "data": {
      "text/html": [
       "<div>\n",
       "<style scoped>\n",
       "    .dataframe tbody tr th:only-of-type {\n",
       "        vertical-align: middle;\n",
       "    }\n",
       "\n",
       "    .dataframe tbody tr th {\n",
       "        vertical-align: top;\n",
       "    }\n",
       "\n",
       "    .dataframe thead th {\n",
       "        text-align: right;\n",
       "    }\n",
       "</style>\n",
       "<table border=\"1\" class=\"dataframe\">\n",
       "  <thead>\n",
       "    <tr style=\"text-align: right;\">\n",
       "      <th></th>\n",
       "      <th>DYRK1A_N</th>\n",
       "      <th>ITSN1_N</th>\n",
       "      <th>BDNF_N</th>\n",
       "      <th>NR1_N</th>\n",
       "      <th>NR2A_N</th>\n",
       "      <th>pAKT_N</th>\n",
       "      <th>pBRAF_N</th>\n",
       "      <th>pCAMKII_N</th>\n",
       "      <th>pCREB_N</th>\n",
       "      <th>pELK_N</th>\n",
       "      <th>...</th>\n",
       "      <th>BAD_N</th>\n",
       "      <th>BCL2_N</th>\n",
       "      <th>pS6_N</th>\n",
       "      <th>pCFOS_N</th>\n",
       "      <th>SYP_N</th>\n",
       "      <th>H3AcK18_N</th>\n",
       "      <th>EGR1_N</th>\n",
       "      <th>H3MeK4_N</th>\n",
       "      <th>CaNA_N</th>\n",
       "      <th>Genotype</th>\n",
       "    </tr>\n",
       "  </thead>\n",
       "  <tbody>\n",
       "    <tr>\n",
       "      <th>0</th>\n",
       "      <td>0.503644</td>\n",
       "      <td>0.747193</td>\n",
       "      <td>0.430175</td>\n",
       "      <td>2.816329</td>\n",
       "      <td>5.990152</td>\n",
       "      <td>0.218830</td>\n",
       "      <td>0.177565</td>\n",
       "      <td>2.373744</td>\n",
       "      <td>0.232224</td>\n",
       "      <td>1.750936</td>\n",
       "      <td>...</td>\n",
       "      <td>0.122652</td>\n",
       "      <td>NaN</td>\n",
       "      <td>0.106305</td>\n",
       "      <td>0.108336</td>\n",
       "      <td>0.427099</td>\n",
       "      <td>0.114783</td>\n",
       "      <td>0.131790</td>\n",
       "      <td>0.128186</td>\n",
       "      <td>1.675652</td>\n",
       "      <td>Control</td>\n",
       "    </tr>\n",
       "    <tr>\n",
       "      <th>1</th>\n",
       "      <td>0.514617</td>\n",
       "      <td>0.689064</td>\n",
       "      <td>0.411770</td>\n",
       "      <td>2.789514</td>\n",
       "      <td>5.685038</td>\n",
       "      <td>0.211636</td>\n",
       "      <td>0.172817</td>\n",
       "      <td>2.292150</td>\n",
       "      <td>0.226972</td>\n",
       "      <td>1.596377</td>\n",
       "      <td>...</td>\n",
       "      <td>0.116682</td>\n",
       "      <td>NaN</td>\n",
       "      <td>0.106592</td>\n",
       "      <td>0.104315</td>\n",
       "      <td>0.441581</td>\n",
       "      <td>0.111974</td>\n",
       "      <td>0.135103</td>\n",
       "      <td>0.131119</td>\n",
       "      <td>1.743610</td>\n",
       "      <td>Control</td>\n",
       "    </tr>\n",
       "    <tr>\n",
       "      <th>2</th>\n",
       "      <td>0.509183</td>\n",
       "      <td>0.730247</td>\n",
       "      <td>0.418309</td>\n",
       "      <td>2.687201</td>\n",
       "      <td>5.622059</td>\n",
       "      <td>0.209011</td>\n",
       "      <td>0.175722</td>\n",
       "      <td>2.283337</td>\n",
       "      <td>0.230247</td>\n",
       "      <td>1.561316</td>\n",
       "      <td>...</td>\n",
       "      <td>0.118508</td>\n",
       "      <td>NaN</td>\n",
       "      <td>0.108303</td>\n",
       "      <td>0.106219</td>\n",
       "      <td>0.435777</td>\n",
       "      <td>0.111883</td>\n",
       "      <td>0.133362</td>\n",
       "      <td>0.127431</td>\n",
       "      <td>1.926427</td>\n",
       "      <td>Control</td>\n",
       "    </tr>\n",
       "    <tr>\n",
       "      <th>3</th>\n",
       "      <td>0.442107</td>\n",
       "      <td>0.617076</td>\n",
       "      <td>0.358626</td>\n",
       "      <td>2.466947</td>\n",
       "      <td>4.979503</td>\n",
       "      <td>0.222886</td>\n",
       "      <td>0.176463</td>\n",
       "      <td>2.152301</td>\n",
       "      <td>0.207004</td>\n",
       "      <td>1.595086</td>\n",
       "      <td>...</td>\n",
       "      <td>0.132781</td>\n",
       "      <td>NaN</td>\n",
       "      <td>0.103184</td>\n",
       "      <td>0.111262</td>\n",
       "      <td>0.391691</td>\n",
       "      <td>0.130405</td>\n",
       "      <td>0.147444</td>\n",
       "      <td>0.146901</td>\n",
       "      <td>1.700563</td>\n",
       "      <td>Control</td>\n",
       "    </tr>\n",
       "    <tr>\n",
       "      <th>4</th>\n",
       "      <td>0.434940</td>\n",
       "      <td>0.617430</td>\n",
       "      <td>0.358802</td>\n",
       "      <td>2.365785</td>\n",
       "      <td>4.718679</td>\n",
       "      <td>0.213106</td>\n",
       "      <td>0.173627</td>\n",
       "      <td>2.134014</td>\n",
       "      <td>0.192158</td>\n",
       "      <td>1.504230</td>\n",
       "      <td>...</td>\n",
       "      <td>0.129954</td>\n",
       "      <td>NaN</td>\n",
       "      <td>0.104784</td>\n",
       "      <td>0.110694</td>\n",
       "      <td>0.434154</td>\n",
       "      <td>0.118481</td>\n",
       "      <td>0.140314</td>\n",
       "      <td>0.148380</td>\n",
       "      <td>1.839730</td>\n",
       "      <td>Control</td>\n",
       "    </tr>\n",
       "  </tbody>\n",
       "</table>\n",
       "<p>5 rows × 78 columns</p>\n",
       "</div>"
      ],
      "text/plain": [
       "   DYRK1A_N   ITSN1_N    BDNF_N     NR1_N    NR2A_N    pAKT_N   pBRAF_N  \\\n",
       "0  0.503644  0.747193  0.430175  2.816329  5.990152  0.218830  0.177565   \n",
       "1  0.514617  0.689064  0.411770  2.789514  5.685038  0.211636  0.172817   \n",
       "2  0.509183  0.730247  0.418309  2.687201  5.622059  0.209011  0.175722   \n",
       "3  0.442107  0.617076  0.358626  2.466947  4.979503  0.222886  0.176463   \n",
       "4  0.434940  0.617430  0.358802  2.365785  4.718679  0.213106  0.173627   \n",
       "\n",
       "   pCAMKII_N   pCREB_N    pELK_N  ...     BAD_N  BCL2_N     pS6_N   pCFOS_N  \\\n",
       "0   2.373744  0.232224  1.750936  ...  0.122652     NaN  0.106305  0.108336   \n",
       "1   2.292150  0.226972  1.596377  ...  0.116682     NaN  0.106592  0.104315   \n",
       "2   2.283337  0.230247  1.561316  ...  0.118508     NaN  0.108303  0.106219   \n",
       "3   2.152301  0.207004  1.595086  ...  0.132781     NaN  0.103184  0.111262   \n",
       "4   2.134014  0.192158  1.504230  ...  0.129954     NaN  0.104784  0.110694   \n",
       "\n",
       "      SYP_N  H3AcK18_N    EGR1_N  H3MeK4_N    CaNA_N  Genotype  \n",
       "0  0.427099   0.114783  0.131790  0.128186  1.675652   Control  \n",
       "1  0.441581   0.111974  0.135103  0.131119  1.743610   Control  \n",
       "2  0.435777   0.111883  0.133362  0.127431  1.926427   Control  \n",
       "3  0.391691   0.130405  0.147444  0.146901  1.700563   Control  \n",
       "4  0.434154   0.118481  0.140314  0.148380  1.839730   Control  \n",
       "\n",
       "[5 rows x 78 columns]"
      ]
     },
     "execution_count": 5,
     "metadata": {},
     "output_type": "execute_result"
    }
   ],
   "source": [
    "#remove last three columns\n",
    "df = df.iloc[:,1:-3]\n",
    "df.head()"
   ]
  },
  {
   "cell_type": "code",
   "execution_count": 6,
   "id": "e5e6b3ba",
   "metadata": {},
   "outputs": [
    {
     "data": {
      "text/plain": [
       "DYRK1A_N     float64\n",
       "ITSN1_N      float64\n",
       "BDNF_N       float64\n",
       "NR1_N        float64\n",
       "NR2A_N       float64\n",
       "              ...   \n",
       "H3AcK18_N    float64\n",
       "EGR1_N       float64\n",
       "H3MeK4_N     float64\n",
       "CaNA_N       float64\n",
       "Genotype      object\n",
       "Length: 78, dtype: object"
      ]
     },
     "execution_count": 6,
     "metadata": {},
     "output_type": "execute_result"
    }
   ],
   "source": [
    "#check datatypes\n",
    "df.dtypes"
   ]
  },
  {
   "cell_type": "code",
   "execution_count": 7,
   "id": "ef00bb0f",
   "metadata": {},
   "outputs": [],
   "source": [
    "#seperate input data from df all columns except last and target data from df as last column\n",
    "input_data = df.iloc[:,:-1]\n",
    "target_colm = df.iloc[:,-1]"
   ]
  },
  {
   "cell_type": "code",
   "execution_count": 8,
   "id": "a9ff5094",
   "metadata": {},
   "outputs": [
    {
     "data": {
      "text/plain": [
       "BCL2_N        285\n",
       "H3MeK4_N      270\n",
       "BAD_N         213\n",
       "EGR1_N        210\n",
       "H3AcK18_N     180\n",
       "pCFOS_N        75\n",
       "ELK_N          18\n",
       "Bcatenin_N     18\n",
       "MEK_N           7\n",
       "P38_N           3\n",
       "TRKA_N          3\n",
       "RSK_N           3\n",
       "APP_N           3\n",
       "SOD1_N          3\n",
       "MTOR_N          3\n",
       "AMPKA_N         3\n",
       "pMTOR_N         3\n",
       "DSCR1_N         3\n",
       "GSK3B_N         3\n",
       "NR2B_N          3\n",
       "pNUMB_N         3\n",
       "RAPTOR_N        3\n",
       "TIAM1_N         3\n",
       "pP70S6_N        3\n",
       "JNK_N           3\n",
       "DYRK1A_N        3\n",
       "ITSN1_N         3\n",
       "pJNK_N          3\n",
       "BDNF_N          3\n",
       "NR1_N           3\n",
       "NR2A_N          3\n",
       "pAKT_N          3\n",
       "pBRAF_N         3\n",
       "pCAMKII_N       3\n",
       "pCREB_N         3\n",
       "pELK_N          3\n",
       "pERK_N          3\n",
       "PKCA_N          3\n",
       "CREB_N          3\n",
       "pMEK_N          3\n",
       "pNR1_N          3\n",
       "pNR2A_N         3\n",
       "pNR2B_N         3\n",
       "pPKCAB_N        3\n",
       "pRSK_N          3\n",
       "AKT_N           3\n",
       "BRAF_N          3\n",
       "CAMKII_N        3\n",
       "ERK_N           3\n",
       "dtype: int64"
      ]
     },
     "execution_count": 8,
     "metadata": {},
     "output_type": "execute_result"
    }
   ],
   "source": [
    "#check nulls\n",
    "nulls = input_data.isna().sum()\n",
    "nulls[nulls>0].sort_values(ascending=False)"
   ]
  },
  {
   "cell_type": "code",
   "execution_count": 9,
   "id": "2423c4d9",
   "metadata": {},
   "outputs": [
    {
     "data": {
      "text/plain": [
       "5"
      ]
     },
     "execution_count": 9,
     "metadata": {},
     "output_type": "execute_result"
    }
   ],
   "source": [
    "#make list of columns with nulls greater than 100\n",
    "nulls_list = nulls[nulls>100].sort_values(ascending=False).index.tolist()\n",
    "len(nulls_list)"
   ]
  },
  {
   "cell_type": "code",
   "execution_count": 10,
   "id": "73884ea3",
   "metadata": {},
   "outputs": [],
   "source": [
    "#remove columns with nulls greater than 100\n",
    "input_data = input_data.drop(columns=nulls_list)"
   ]
  },
  {
   "cell_type": "code",
   "execution_count": 11,
   "id": "9008873c",
   "metadata": {},
   "outputs": [],
   "source": [
    "#check nulls after removing columns in previous step\n",
    "nulls1 = input_data.isna().sum()"
   ]
  },
  {
   "cell_type": "code",
   "execution_count": 12,
   "id": "7214dd8e",
   "metadata": {},
   "outputs": [
    {
     "data": {
      "text/plain": [
       "['DYRK1A_N',\n",
       " 'ITSN1_N',\n",
       " 'BDNF_N',\n",
       " 'NR1_N',\n",
       " 'NR2A_N',\n",
       " 'pAKT_N',\n",
       " 'pBRAF_N',\n",
       " 'pCAMKII_N',\n",
       " 'pCREB_N',\n",
       " 'pELK_N',\n",
       " 'pERK_N',\n",
       " 'pJNK_N',\n",
       " 'PKCA_N',\n",
       " 'pMEK_N',\n",
       " 'pNR1_N',\n",
       " 'pNR2A_N',\n",
       " 'pNR2B_N',\n",
       " 'pPKCAB_N',\n",
       " 'pRSK_N',\n",
       " 'AKT_N',\n",
       " 'BRAF_N',\n",
       " 'CAMKII_N',\n",
       " 'CREB_N',\n",
       " 'ELK_N',\n",
       " 'ERK_N',\n",
       " 'GSK3B_N',\n",
       " 'JNK_N',\n",
       " 'MEK_N',\n",
       " 'TRKA_N',\n",
       " 'RSK_N',\n",
       " 'APP_N',\n",
       " 'Bcatenin_N',\n",
       " 'SOD1_N',\n",
       " 'MTOR_N',\n",
       " 'P38_N',\n",
       " 'pMTOR_N',\n",
       " 'DSCR1_N',\n",
       " 'AMPKA_N',\n",
       " 'NR2B_N',\n",
       " 'pNUMB_N',\n",
       " 'RAPTOR_N',\n",
       " 'TIAM1_N',\n",
       " 'pP70S6_N',\n",
       " 'NUMB_N',\n",
       " 'P70S6_N',\n",
       " 'pGSK3B_N',\n",
       " 'pPKCG_N',\n",
       " 'CDK5_N',\n",
       " 'S6_N',\n",
       " 'ADARB1_N',\n",
       " 'AcetylH3K9_N',\n",
       " 'RRP1_N',\n",
       " 'BAX_N',\n",
       " 'ARC_N',\n",
       " 'ERBB4_N',\n",
       " 'nNOS_N',\n",
       " 'Tau_N',\n",
       " 'GFAP_N',\n",
       " 'GluR3_N',\n",
       " 'GluR4_N',\n",
       " 'IL1B_N',\n",
       " 'P3525_N',\n",
       " 'pCASP9_N',\n",
       " 'PSD95_N',\n",
       " 'SNCA_N',\n",
       " 'Ubiquitin_N',\n",
       " 'pGSK3B_Tyr216_N',\n",
       " 'SHH_N',\n",
       " 'pS6_N',\n",
       " 'pCFOS_N',\n",
       " 'SYP_N',\n",
       " 'CaNA_N']"
      ]
     },
     "execution_count": 12,
     "metadata": {},
     "output_type": "execute_result"
    }
   ],
   "source": [
    "#make list of nulls\n",
    "nulls1.index.tolist()"
   ]
  },
  {
   "cell_type": "code",
   "execution_count": 76,
   "id": "bdaeaed0",
   "metadata": {},
   "outputs": [
    {
     "data": {
      "text/html": [
       "<div>\n",
       "<style scoped>\n",
       "    .dataframe tbody tr th:only-of-type {\n",
       "        vertical-align: middle;\n",
       "    }\n",
       "\n",
       "    .dataframe tbody tr th {\n",
       "        vertical-align: top;\n",
       "    }\n",
       "\n",
       "    .dataframe thead th {\n",
       "        text-align: right;\n",
       "    }\n",
       "</style>\n",
       "<table border=\"1\" class=\"dataframe\">\n",
       "  <thead>\n",
       "    <tr style=\"text-align: right;\">\n",
       "      <th></th>\n",
       "      <th>DYRK1A_N</th>\n",
       "      <th>ITSN1_N</th>\n",
       "      <th>BDNF_N</th>\n",
       "      <th>NR1_N</th>\n",
       "      <th>NR2A_N</th>\n",
       "      <th>pAKT_N</th>\n",
       "      <th>pBRAF_N</th>\n",
       "      <th>pCAMKII_N</th>\n",
       "      <th>pCREB_N</th>\n",
       "      <th>pELK_N</th>\n",
       "      <th>...</th>\n",
       "      <th>pCASP9_N</th>\n",
       "      <th>PSD95_N</th>\n",
       "      <th>SNCA_N</th>\n",
       "      <th>Ubiquitin_N</th>\n",
       "      <th>pGSK3B_Tyr216_N</th>\n",
       "      <th>SHH_N</th>\n",
       "      <th>pS6_N</th>\n",
       "      <th>pCFOS_N</th>\n",
       "      <th>SYP_N</th>\n",
       "      <th>CaNA_N</th>\n",
       "    </tr>\n",
       "  </thead>\n",
       "  <tbody>\n",
       "    <tr>\n",
       "      <th>0</th>\n",
       "      <td>0.503644</td>\n",
       "      <td>0.747193</td>\n",
       "      <td>0.430175</td>\n",
       "      <td>2.816329</td>\n",
       "      <td>5.990152</td>\n",
       "      <td>0.218830</td>\n",
       "      <td>0.177565</td>\n",
       "      <td>2.373744</td>\n",
       "      <td>0.232224</td>\n",
       "      <td>1.750936</td>\n",
       "      <td>...</td>\n",
       "      <td>1.603310</td>\n",
       "      <td>2.014875</td>\n",
       "      <td>0.108234</td>\n",
       "      <td>1.044979</td>\n",
       "      <td>0.831557</td>\n",
       "      <td>0.188852</td>\n",
       "      <td>0.106305</td>\n",
       "      <td>0.108336</td>\n",
       "      <td>0.427099</td>\n",
       "      <td>1.675652</td>\n",
       "    </tr>\n",
       "    <tr>\n",
       "      <th>1</th>\n",
       "      <td>0.514617</td>\n",
       "      <td>0.689064</td>\n",
       "      <td>0.411770</td>\n",
       "      <td>2.789514</td>\n",
       "      <td>5.685038</td>\n",
       "      <td>0.211636</td>\n",
       "      <td>0.172817</td>\n",
       "      <td>2.292150</td>\n",
       "      <td>0.226972</td>\n",
       "      <td>1.596377</td>\n",
       "      <td>...</td>\n",
       "      <td>1.671738</td>\n",
       "      <td>2.004605</td>\n",
       "      <td>0.109749</td>\n",
       "      <td>1.009883</td>\n",
       "      <td>0.849270</td>\n",
       "      <td>0.200404</td>\n",
       "      <td>0.106592</td>\n",
       "      <td>0.104315</td>\n",
       "      <td>0.441581</td>\n",
       "      <td>1.743610</td>\n",
       "    </tr>\n",
       "    <tr>\n",
       "      <th>2</th>\n",
       "      <td>0.509183</td>\n",
       "      <td>0.730247</td>\n",
       "      <td>0.418309</td>\n",
       "      <td>2.687201</td>\n",
       "      <td>5.622059</td>\n",
       "      <td>0.209011</td>\n",
       "      <td>0.175722</td>\n",
       "      <td>2.283337</td>\n",
       "      <td>0.230247</td>\n",
       "      <td>1.561316</td>\n",
       "      <td>...</td>\n",
       "      <td>1.663550</td>\n",
       "      <td>2.016831</td>\n",
       "      <td>0.108196</td>\n",
       "      <td>0.996848</td>\n",
       "      <td>0.846709</td>\n",
       "      <td>0.193685</td>\n",
       "      <td>0.108303</td>\n",
       "      <td>0.106219</td>\n",
       "      <td>0.435777</td>\n",
       "      <td>1.926427</td>\n",
       "    </tr>\n",
       "    <tr>\n",
       "      <th>3</th>\n",
       "      <td>0.442107</td>\n",
       "      <td>0.617076</td>\n",
       "      <td>0.358626</td>\n",
       "      <td>2.466947</td>\n",
       "      <td>4.979503</td>\n",
       "      <td>0.222886</td>\n",
       "      <td>0.176463</td>\n",
       "      <td>2.152301</td>\n",
       "      <td>0.207004</td>\n",
       "      <td>1.595086</td>\n",
       "      <td>...</td>\n",
       "      <td>1.484624</td>\n",
       "      <td>1.957233</td>\n",
       "      <td>0.119883</td>\n",
       "      <td>0.990225</td>\n",
       "      <td>0.833277</td>\n",
       "      <td>0.192112</td>\n",
       "      <td>0.103184</td>\n",
       "      <td>0.111262</td>\n",
       "      <td>0.391691</td>\n",
       "      <td>1.700563</td>\n",
       "    </tr>\n",
       "    <tr>\n",
       "      <th>4</th>\n",
       "      <td>0.434940</td>\n",
       "      <td>0.617430</td>\n",
       "      <td>0.358802</td>\n",
       "      <td>2.365785</td>\n",
       "      <td>4.718679</td>\n",
       "      <td>0.213106</td>\n",
       "      <td>0.173627</td>\n",
       "      <td>2.134014</td>\n",
       "      <td>0.192158</td>\n",
       "      <td>1.504230</td>\n",
       "      <td>...</td>\n",
       "      <td>1.534835</td>\n",
       "      <td>2.009109</td>\n",
       "      <td>0.119524</td>\n",
       "      <td>0.997775</td>\n",
       "      <td>0.878668</td>\n",
       "      <td>0.205604</td>\n",
       "      <td>0.104784</td>\n",
       "      <td>0.110694</td>\n",
       "      <td>0.434154</td>\n",
       "      <td>1.839730</td>\n",
       "    </tr>\n",
       "    <tr>\n",
       "      <th>...</th>\n",
       "      <td>...</td>\n",
       "      <td>...</td>\n",
       "      <td>...</td>\n",
       "      <td>...</td>\n",
       "      <td>...</td>\n",
       "      <td>...</td>\n",
       "      <td>...</td>\n",
       "      <td>...</td>\n",
       "      <td>...</td>\n",
       "      <td>...</td>\n",
       "      <td>...</td>\n",
       "      <td>...</td>\n",
       "      <td>...</td>\n",
       "      <td>...</td>\n",
       "      <td>...</td>\n",
       "      <td>...</td>\n",
       "      <td>...</td>\n",
       "      <td>...</td>\n",
       "      <td>...</td>\n",
       "      <td>...</td>\n",
       "      <td>...</td>\n",
       "    </tr>\n",
       "    <tr>\n",
       "      <th>1075</th>\n",
       "      <td>0.254860</td>\n",
       "      <td>0.463591</td>\n",
       "      <td>0.254860</td>\n",
       "      <td>2.092082</td>\n",
       "      <td>2.600035</td>\n",
       "      <td>0.211736</td>\n",
       "      <td>0.171262</td>\n",
       "      <td>2.483740</td>\n",
       "      <td>0.207317</td>\n",
       "      <td>1.057971</td>\n",
       "      <td>...</td>\n",
       "      <td>1.323554</td>\n",
       "      <td>2.578046</td>\n",
       "      <td>0.167181</td>\n",
       "      <td>1.261651</td>\n",
       "      <td>0.962942</td>\n",
       "      <td>0.275547</td>\n",
       "      <td>0.115806</td>\n",
       "      <td>0.183324</td>\n",
       "      <td>0.374088</td>\n",
       "      <td>1.364823</td>\n",
       "    </tr>\n",
       "    <tr>\n",
       "      <th>1076</th>\n",
       "      <td>0.272198</td>\n",
       "      <td>0.474163</td>\n",
       "      <td>0.251638</td>\n",
       "      <td>2.161390</td>\n",
       "      <td>2.801492</td>\n",
       "      <td>0.251274</td>\n",
       "      <td>0.182496</td>\n",
       "      <td>2.512737</td>\n",
       "      <td>0.216339</td>\n",
       "      <td>1.081150</td>\n",
       "      <td>...</td>\n",
       "      <td>1.275605</td>\n",
       "      <td>2.534347</td>\n",
       "      <td>0.169592</td>\n",
       "      <td>1.254872</td>\n",
       "      <td>0.983690</td>\n",
       "      <td>0.283207</td>\n",
       "      <td>0.113614</td>\n",
       "      <td>0.175674</td>\n",
       "      <td>0.375259</td>\n",
       "      <td>1.364478</td>\n",
       "    </tr>\n",
       "    <tr>\n",
       "      <th>1077</th>\n",
       "      <td>0.228700</td>\n",
       "      <td>0.395179</td>\n",
       "      <td>0.234118</td>\n",
       "      <td>1.733184</td>\n",
       "      <td>2.220852</td>\n",
       "      <td>0.220665</td>\n",
       "      <td>0.161435</td>\n",
       "      <td>1.989723</td>\n",
       "      <td>0.185164</td>\n",
       "      <td>0.884342</td>\n",
       "      <td>...</td>\n",
       "      <td>1.437534</td>\n",
       "      <td>2.544515</td>\n",
       "      <td>0.179692</td>\n",
       "      <td>1.242248</td>\n",
       "      <td>0.976609</td>\n",
       "      <td>0.290843</td>\n",
       "      <td>0.118948</td>\n",
       "      <td>0.158296</td>\n",
       "      <td>0.422121</td>\n",
       "      <td>1.430825</td>\n",
       "    </tr>\n",
       "    <tr>\n",
       "      <th>1078</th>\n",
       "      <td>0.221242</td>\n",
       "      <td>0.412894</td>\n",
       "      <td>0.243974</td>\n",
       "      <td>1.876347</td>\n",
       "      <td>2.384088</td>\n",
       "      <td>0.208897</td>\n",
       "      <td>0.173623</td>\n",
       "      <td>2.086028</td>\n",
       "      <td>0.192044</td>\n",
       "      <td>0.922595</td>\n",
       "      <td>...</td>\n",
       "      <td>1.498820</td>\n",
       "      <td>2.609769</td>\n",
       "      <td>0.185037</td>\n",
       "      <td>1.301071</td>\n",
       "      <td>0.989286</td>\n",
       "      <td>0.306701</td>\n",
       "      <td>0.125295</td>\n",
       "      <td>0.196296</td>\n",
       "      <td>0.397676</td>\n",
       "      <td>1.404031</td>\n",
       "    </tr>\n",
       "    <tr>\n",
       "      <th>1079</th>\n",
       "      <td>0.302626</td>\n",
       "      <td>0.461059</td>\n",
       "      <td>0.256564</td>\n",
       "      <td>2.092790</td>\n",
       "      <td>2.594348</td>\n",
       "      <td>0.251001</td>\n",
       "      <td>0.191811</td>\n",
       "      <td>2.361816</td>\n",
       "      <td>0.223632</td>\n",
       "      <td>1.064085</td>\n",
       "      <td>...</td>\n",
       "      <td>1.490077</td>\n",
       "      <td>2.526372</td>\n",
       "      <td>0.184516</td>\n",
       "      <td>1.267120</td>\n",
       "      <td>1.020383</td>\n",
       "      <td>0.292330</td>\n",
       "      <td>0.118899</td>\n",
       "      <td>0.187556</td>\n",
       "      <td>0.420347</td>\n",
       "      <td>1.370999</td>\n",
       "    </tr>\n",
       "  </tbody>\n",
       "</table>\n",
       "<p>1080 rows × 72 columns</p>\n",
       "</div>"
      ],
      "text/plain": [
       "      DYRK1A_N   ITSN1_N    BDNF_N     NR1_N    NR2A_N    pAKT_N   pBRAF_N  \\\n",
       "0     0.503644  0.747193  0.430175  2.816329  5.990152  0.218830  0.177565   \n",
       "1     0.514617  0.689064  0.411770  2.789514  5.685038  0.211636  0.172817   \n",
       "2     0.509183  0.730247  0.418309  2.687201  5.622059  0.209011  0.175722   \n",
       "3     0.442107  0.617076  0.358626  2.466947  4.979503  0.222886  0.176463   \n",
       "4     0.434940  0.617430  0.358802  2.365785  4.718679  0.213106  0.173627   \n",
       "...        ...       ...       ...       ...       ...       ...       ...   \n",
       "1075  0.254860  0.463591  0.254860  2.092082  2.600035  0.211736  0.171262   \n",
       "1076  0.272198  0.474163  0.251638  2.161390  2.801492  0.251274  0.182496   \n",
       "1077  0.228700  0.395179  0.234118  1.733184  2.220852  0.220665  0.161435   \n",
       "1078  0.221242  0.412894  0.243974  1.876347  2.384088  0.208897  0.173623   \n",
       "1079  0.302626  0.461059  0.256564  2.092790  2.594348  0.251001  0.191811   \n",
       "\n",
       "      pCAMKII_N   pCREB_N    pELK_N  ...  pCASP9_N   PSD95_N    SNCA_N  \\\n",
       "0      2.373744  0.232224  1.750936  ...  1.603310  2.014875  0.108234   \n",
       "1      2.292150  0.226972  1.596377  ...  1.671738  2.004605  0.109749   \n",
       "2      2.283337  0.230247  1.561316  ...  1.663550  2.016831  0.108196   \n",
       "3      2.152301  0.207004  1.595086  ...  1.484624  1.957233  0.119883   \n",
       "4      2.134014  0.192158  1.504230  ...  1.534835  2.009109  0.119524   \n",
       "...         ...       ...       ...  ...       ...       ...       ...   \n",
       "1075   2.483740  0.207317  1.057971  ...  1.323554  2.578046  0.167181   \n",
       "1076   2.512737  0.216339  1.081150  ...  1.275605  2.534347  0.169592   \n",
       "1077   1.989723  0.185164  0.884342  ...  1.437534  2.544515  0.179692   \n",
       "1078   2.086028  0.192044  0.922595  ...  1.498820  2.609769  0.185037   \n",
       "1079   2.361816  0.223632  1.064085  ...  1.490077  2.526372  0.184516   \n",
       "\n",
       "      Ubiquitin_N  pGSK3B_Tyr216_N     SHH_N     pS6_N   pCFOS_N     SYP_N  \\\n",
       "0        1.044979         0.831557  0.188852  0.106305  0.108336  0.427099   \n",
       "1        1.009883         0.849270  0.200404  0.106592  0.104315  0.441581   \n",
       "2        0.996848         0.846709  0.193685  0.108303  0.106219  0.435777   \n",
       "3        0.990225         0.833277  0.192112  0.103184  0.111262  0.391691   \n",
       "4        0.997775         0.878668  0.205604  0.104784  0.110694  0.434154   \n",
       "...           ...              ...       ...       ...       ...       ...   \n",
       "1075     1.261651         0.962942  0.275547  0.115806  0.183324  0.374088   \n",
       "1076     1.254872         0.983690  0.283207  0.113614  0.175674  0.375259   \n",
       "1077     1.242248         0.976609  0.290843  0.118948  0.158296  0.422121   \n",
       "1078     1.301071         0.989286  0.306701  0.125295  0.196296  0.397676   \n",
       "1079     1.267120         1.020383  0.292330  0.118899  0.187556  0.420347   \n",
       "\n",
       "        CaNA_N  \n",
       "0     1.675652  \n",
       "1     1.743610  \n",
       "2     1.926427  \n",
       "3     1.700563  \n",
       "4     1.839730  \n",
       "...        ...  \n",
       "1075  1.364823  \n",
       "1076  1.364478  \n",
       "1077  1.430825  \n",
       "1078  1.404031  \n",
       "1079  1.370999  \n",
       "\n",
       "[1080 rows x 72 columns]"
      ]
     },
     "execution_count": 76,
     "metadata": {},
     "output_type": "execute_result"
    }
   ],
   "source": [
    "input_data"
   ]
  },
  {
   "cell_type": "code",
   "execution_count": 13,
   "id": "45831eaa",
   "metadata": {},
   "outputs": [],
   "source": [
    "#calculate missing values using KNNimputer\n",
    "from sklearn.impute import KNNImputer\n",
    "\n",
    "imputer = KNNImputer(n_neighbors=4, weights=\"uniform\")\n",
    "input_data1 = imputer.fit_transform(input_data)"
   ]
  },
  {
   "cell_type": "code",
   "execution_count": 14,
   "id": "3412cf60",
   "metadata": {},
   "outputs": [],
   "source": [
    "#make changes in input data after imputing\n",
    "input_data = pd.DataFrame(input_data1, columns=input_data.columns)"
   ]
  },
  {
   "cell_type": "code",
   "execution_count": 15,
   "id": "b082bf62",
   "metadata": {},
   "outputs": [
    {
     "data": {
      "text/plain": [
       "DYRK1A_N    0\n",
       "ITSN1_N     0\n",
       "BDNF_N      0\n",
       "NR1_N       0\n",
       "NR2A_N      0\n",
       "           ..\n",
       "SHH_N       0\n",
       "pS6_N       0\n",
       "pCFOS_N     0\n",
       "SYP_N       0\n",
       "CaNA_N      0\n",
       "Length: 72, dtype: int64"
      ]
     },
     "execution_count": 15,
     "metadata": {},
     "output_type": "execute_result"
    }
   ],
   "source": [
    "#check for nulls\n",
    "input_data.isna().sum()"
   ]
  },
  {
   "cell_type": "code",
   "execution_count": 38,
   "id": "0ef5ab6b",
   "metadata": {},
   "outputs": [
    {
     "data": {
      "text/plain": [
       "Series([], dtype: int64)"
      ]
     },
     "execution_count": 38,
     "metadata": {},
     "output_type": "execute_result"
    }
   ],
   "source": [
    "#nulls = input_data.isna().sum()\n",
    "#nulls[nulls>0].sort_values(ascending=False)"
   ]
  },
  {
   "cell_type": "code",
   "execution_count": 76,
   "id": "647b87da",
   "metadata": {},
   "outputs": [
    {
     "data": {
      "text/plain": [
       "DYRK1A_N           0\n",
       "ITSN1_N            0\n",
       "BDNF_N             0\n",
       "NR1_N              0\n",
       "NR2A_N             0\n",
       "                  ..\n",
       "pGSK3B_Tyr216_N    0\n",
       "SHH_N              0\n",
       "pS6_N              0\n",
       "SYP_N              0\n",
       "CaNA_N             0\n",
       "Length: 68, dtype: int64"
      ]
     },
     "execution_count": 76,
     "metadata": {},
     "output_type": "execute_result"
    }
   ],
   "source": [
    "#for column in nulls_list:\n",
    "#    mode_value = input_data[column].mode()[0]\n",
    "#    input_data.fillna(mode_value,inplace=True)\n",
    "#input_data.isna().sum()"
   ]
  },
  {
   "cell_type": "code",
   "execution_count": 16,
   "id": "a8365bf7",
   "metadata": {},
   "outputs": [
    {
     "name": "stderr",
     "output_type": "stream",
     "text": [
      "C:\\Users\\ADMIN\\anaconda3\\lib\\site-packages\\statsmodels\\stats\\outliers_influence.py:195: RuntimeWarning: divide by zero encountered in scalar divide\n",
      "  vif = 1. / (1. - r_squared_i)\n"
     ]
    },
    {
     "data": {
      "text/html": [
       "<div>\n",
       "<style scoped>\n",
       "    .dataframe tbody tr th:only-of-type {\n",
       "        vertical-align: middle;\n",
       "    }\n",
       "\n",
       "    .dataframe tbody tr th {\n",
       "        vertical-align: top;\n",
       "    }\n",
       "\n",
       "    .dataframe thead th {\n",
       "        text-align: right;\n",
       "    }\n",
       "</style>\n",
       "<table border=\"1\" class=\"dataframe\">\n",
       "  <thead>\n",
       "    <tr style=\"text-align: right;\">\n",
       "      <th></th>\n",
       "      <th>feature</th>\n",
       "      <th>VIF</th>\n",
       "    </tr>\n",
       "  </thead>\n",
       "  <tbody>\n",
       "    <tr>\n",
       "      <th>50</th>\n",
       "      <td>AcetylH3K9_N</td>\n",
       "      <td>29.176979</td>\n",
       "    </tr>\n",
       "    <tr>\n",
       "      <th>32</th>\n",
       "      <td>SOD1_N</td>\n",
       "      <td>32.932709</td>\n",
       "    </tr>\n",
       "    <tr>\n",
       "      <th>59</th>\n",
       "      <td>GluR4_N</td>\n",
       "      <td>49.992984</td>\n",
       "    </tr>\n",
       "    <tr>\n",
       "      <th>9</th>\n",
       "      <td>pELK_N</td>\n",
       "      <td>51.091182</td>\n",
       "    </tr>\n",
       "    <tr>\n",
       "      <th>51</th>\n",
       "      <td>RRP1_N</td>\n",
       "      <td>59.802951</td>\n",
       "    </tr>\n",
       "    <tr>\n",
       "      <th>...</th>\n",
       "      <td>...</td>\n",
       "      <td>...</td>\n",
       "    </tr>\n",
       "    <tr>\n",
       "      <th>31</th>\n",
       "      <td>Bcatenin_N</td>\n",
       "      <td>957.989001</td>\n",
       "    </tr>\n",
       "    <tr>\n",
       "      <th>14</th>\n",
       "      <td>pNR1_N</td>\n",
       "      <td>1329.608144</td>\n",
       "    </tr>\n",
       "    <tr>\n",
       "      <th>3</th>\n",
       "      <td>NR1_N</td>\n",
       "      <td>1871.448194</td>\n",
       "    </tr>\n",
       "    <tr>\n",
       "      <th>53</th>\n",
       "      <td>ARC_N</td>\n",
       "      <td>inf</td>\n",
       "    </tr>\n",
       "    <tr>\n",
       "      <th>68</th>\n",
       "      <td>pS6_N</td>\n",
       "      <td>inf</td>\n",
       "    </tr>\n",
       "  </tbody>\n",
       "</table>\n",
       "<p>72 rows × 2 columns</p>\n",
       "</div>"
      ],
      "text/plain": [
       "         feature          VIF\n",
       "50  AcetylH3K9_N    29.176979\n",
       "32        SOD1_N    32.932709\n",
       "59       GluR4_N    49.992984\n",
       "9         pELK_N    51.091182\n",
       "51        RRP1_N    59.802951\n",
       "..           ...          ...\n",
       "31    Bcatenin_N   957.989001\n",
       "14        pNR1_N  1329.608144\n",
       "3          NR1_N  1871.448194\n",
       "53         ARC_N          inf\n",
       "68         pS6_N          inf\n",
       "\n",
       "[72 rows x 2 columns]"
      ]
     },
     "execution_count": 16,
     "metadata": {},
     "output_type": "execute_result"
    }
   ],
   "source": [
    "#inspiration from statsmodel official documentation\n",
    "#variance inflation factor all features which shows mulitcolinearity for each feature with respect to other features\n",
    "from statsmodels.stats.outliers_influence import variance_inflation_factor\n",
    "\n",
    "vif_data = pd.DataFrame()\n",
    "vif_data[\"feature\"] = input_data.columns\n",
    "vif_data[\"VIF\"] = [variance_inflation_factor(input_data.values, i) for i in range(len(input_data.columns))]\n",
    "vif_data.sort_values([\"VIF\"],ascending=True)"
   ]
  },
  {
   "cell_type": "code",
   "execution_count": 17,
   "id": "93a4c93e",
   "metadata": {},
   "outputs": [],
   "source": [
    "#remove highly collinear columns\n",
    "input_data=input_data.drop(['ARC_N','pS6_N'], axis = 1)"
   ]
  },
  {
   "cell_type": "code",
   "execution_count": 18,
   "id": "1a6d2c72",
   "metadata": {},
   "outputs": [
    {
     "data": {
      "text/html": [
       "<div>\n",
       "<style scoped>\n",
       "    .dataframe tbody tr th:only-of-type {\n",
       "        vertical-align: middle;\n",
       "    }\n",
       "\n",
       "    .dataframe tbody tr th {\n",
       "        vertical-align: top;\n",
       "    }\n",
       "\n",
       "    .dataframe thead th {\n",
       "        text-align: right;\n",
       "    }\n",
       "</style>\n",
       "<table border=\"1\" class=\"dataframe\">\n",
       "  <thead>\n",
       "    <tr style=\"text-align: right;\">\n",
       "      <th></th>\n",
       "      <th>feature</th>\n",
       "      <th>VIF</th>\n",
       "    </tr>\n",
       "  </thead>\n",
       "  <tbody>\n",
       "    <tr>\n",
       "      <th>50</th>\n",
       "      <td>AcetylH3K9_N</td>\n",
       "      <td>29.089993</td>\n",
       "    </tr>\n",
       "    <tr>\n",
       "      <th>32</th>\n",
       "      <td>SOD1_N</td>\n",
       "      <td>32.911673</td>\n",
       "    </tr>\n",
       "    <tr>\n",
       "      <th>58</th>\n",
       "      <td>GluR4_N</td>\n",
       "      <td>49.893971</td>\n",
       "    </tr>\n",
       "    <tr>\n",
       "      <th>9</th>\n",
       "      <td>pELK_N</td>\n",
       "      <td>51.090068</td>\n",
       "    </tr>\n",
       "    <tr>\n",
       "      <th>51</th>\n",
       "      <td>RRP1_N</td>\n",
       "      <td>59.507664</td>\n",
       "    </tr>\n",
       "    <tr>\n",
       "      <th>...</th>\n",
       "      <td>...</td>\n",
       "      <td>...</td>\n",
       "    </tr>\n",
       "    <tr>\n",
       "      <th>16</th>\n",
       "      <td>pNR2B_N</td>\n",
       "      <td>871.004103</td>\n",
       "    </tr>\n",
       "    <tr>\n",
       "      <th>28</th>\n",
       "      <td>TRKA_N</td>\n",
       "      <td>871.491731</td>\n",
       "    </tr>\n",
       "    <tr>\n",
       "      <th>31</th>\n",
       "      <td>Bcatenin_N</td>\n",
       "      <td>955.218667</td>\n",
       "    </tr>\n",
       "    <tr>\n",
       "      <th>14</th>\n",
       "      <td>pNR1_N</td>\n",
       "      <td>1323.984319</td>\n",
       "    </tr>\n",
       "    <tr>\n",
       "      <th>3</th>\n",
       "      <td>NR1_N</td>\n",
       "      <td>1857.635291</td>\n",
       "    </tr>\n",
       "  </tbody>\n",
       "</table>\n",
       "<p>70 rows × 2 columns</p>\n",
       "</div>"
      ],
      "text/plain": [
       "         feature          VIF\n",
       "50  AcetylH3K9_N    29.089993\n",
       "32        SOD1_N    32.911673\n",
       "58       GluR4_N    49.893971\n",
       "9         pELK_N    51.090068\n",
       "51        RRP1_N    59.507664\n",
       "..           ...          ...\n",
       "16       pNR2B_N   871.004103\n",
       "28        TRKA_N   871.491731\n",
       "31    Bcatenin_N   955.218667\n",
       "14        pNR1_N  1323.984319\n",
       "3          NR1_N  1857.635291\n",
       "\n",
       "[70 rows x 2 columns]"
      ]
     },
     "execution_count": 18,
     "metadata": {},
     "output_type": "execute_result"
    }
   ],
   "source": [
    "vif_data = pd.DataFrame()\n",
    "vif_data[\"feature\"] = input_data.columns\n",
    "vif_data[\"VIF\"] = [variance_inflation_factor(input_data.values, i) for i in range(len(input_data.columns))]\n",
    "vif_data.sort_values([\"VIF\"],ascending=True)"
   ]
  },
  {
   "cell_type": "code",
   "execution_count": 99,
   "id": "f001d8dd",
   "metadata": {},
   "outputs": [],
   "source": [
    "input_data=input_data.drop(['pNR1_N','NR1_N'], axis = 1)"
   ]
  },
  {
   "cell_type": "code",
   "execution_count": 100,
   "id": "e939f573",
   "metadata": {},
   "outputs": [
    {
     "data": {
      "text/html": [
       "<div>\n",
       "<style scoped>\n",
       "    .dataframe tbody tr th:only-of-type {\n",
       "        vertical-align: middle;\n",
       "    }\n",
       "\n",
       "    .dataframe tbody tr th {\n",
       "        vertical-align: top;\n",
       "    }\n",
       "\n",
       "    .dataframe thead th {\n",
       "        text-align: right;\n",
       "    }\n",
       "</style>\n",
       "<table border=\"1\" class=\"dataframe\">\n",
       "  <thead>\n",
       "    <tr style=\"text-align: right;\">\n",
       "      <th></th>\n",
       "      <th>feature</th>\n",
       "      <th>VIF</th>\n",
       "    </tr>\n",
       "  </thead>\n",
       "  <tbody>\n",
       "    <tr>\n",
       "      <th>48</th>\n",
       "      <td>AcetylH3K9_N</td>\n",
       "      <td>28.726471</td>\n",
       "    </tr>\n",
       "    <tr>\n",
       "      <th>30</th>\n",
       "      <td>SOD1_N</td>\n",
       "      <td>32.879913</td>\n",
       "    </tr>\n",
       "    <tr>\n",
       "      <th>56</th>\n",
       "      <td>GluR4_N</td>\n",
       "      <td>49.314925</td>\n",
       "    </tr>\n",
       "    <tr>\n",
       "      <th>8</th>\n",
       "      <td>pELK_N</td>\n",
       "      <td>50.809623</td>\n",
       "    </tr>\n",
       "    <tr>\n",
       "      <th>49</th>\n",
       "      <td>RRP1_N</td>\n",
       "      <td>59.393963</td>\n",
       "    </tr>\n",
       "    <tr>\n",
       "      <th>...</th>\n",
       "      <td>...</td>\n",
       "      <td>...</td>\n",
       "    </tr>\n",
       "    <tr>\n",
       "      <th>63</th>\n",
       "      <td>pGSK3B_Tyr216_N</td>\n",
       "      <td>730.053233</td>\n",
       "    </tr>\n",
       "    <tr>\n",
       "      <th>14</th>\n",
       "      <td>pNR2B_N</td>\n",
       "      <td>750.745846</td>\n",
       "    </tr>\n",
       "    <tr>\n",
       "      <th>35</th>\n",
       "      <td>AMPKA_N</td>\n",
       "      <td>783.499787</td>\n",
       "    </tr>\n",
       "    <tr>\n",
       "      <th>26</th>\n",
       "      <td>TRKA_N</td>\n",
       "      <td>837.658031</td>\n",
       "    </tr>\n",
       "    <tr>\n",
       "      <th>29</th>\n",
       "      <td>Bcatenin_N</td>\n",
       "      <td>884.625927</td>\n",
       "    </tr>\n",
       "  </tbody>\n",
       "</table>\n",
       "<p>68 rows × 2 columns</p>\n",
       "</div>"
      ],
      "text/plain": [
       "            feature         VIF\n",
       "48     AcetylH3K9_N   28.726471\n",
       "30           SOD1_N   32.879913\n",
       "56          GluR4_N   49.314925\n",
       "8            pELK_N   50.809623\n",
       "49           RRP1_N   59.393963\n",
       "..              ...         ...\n",
       "63  pGSK3B_Tyr216_N  730.053233\n",
       "14          pNR2B_N  750.745846\n",
       "35          AMPKA_N  783.499787\n",
       "26           TRKA_N  837.658031\n",
       "29       Bcatenin_N  884.625927\n",
       "\n",
       "[68 rows x 2 columns]"
      ]
     },
     "execution_count": 100,
     "metadata": {},
     "output_type": "execute_result"
    }
   ],
   "source": [
    "vif_data = pd.DataFrame()\n",
    "vif_data[\"feature\"] = input_data.columns\n",
    "vif_data[\"VIF\"] = [variance_inflation_factor(input_data.values, i) for i in range(len(input_data.columns))]\n",
    "vif_data.sort_values([\"VIF\"],ascending=True)"
   ]
  },
  {
   "cell_type": "markdown",
   "id": "46b5fdb1",
   "metadata": {},
   "source": [
    "# Que 2 (c)"
   ]
  },
  {
   "cell_type": "code",
   "execution_count": 19,
   "id": "d331c691",
   "metadata": {},
   "outputs": [],
   "source": [
    "#shuffle input data  and target columns accordingly\n",
    "input_data_shuffled = input_data.sample(frac=1, random_state=42) \n",
    "target_colm_shuffled = target_colm.sample(frac=1, random_state=42)"
   ]
  },
  {
   "cell_type": "code",
   "execution_count": 20,
   "id": "e5547202",
   "metadata": {},
   "outputs": [],
   "source": [
    "#split in train-validation and test sets\n",
    "split_index = int(0.9 * len(input_data_shuffled))\n",
    "\n",
    "trainer_set = input_data_shuffled[:split_index]\n",
    "test_set = input_data_shuffled[split_index:]\n",
    "trainer_colm = target_colm_shuffled[:split_index]\n",
    "test_colm = target_colm_shuffled[split_index:]"
   ]
  },
  {
   "cell_type": "code",
   "execution_count": 21,
   "id": "94be019a",
   "metadata": {},
   "outputs": [
    {
     "data": {
      "text/plain": [
       "423     Control\n",
       "548     Control\n",
       "731      Ts65Dn\n",
       "588      Ts65Dn\n",
       "1051     Ts65Dn\n",
       "         ...   \n",
       "330     Control\n",
       "466     Control\n",
       "121     Control\n",
       "1044     Ts65Dn\n",
       "860      Ts65Dn\n",
       "Name: Genotype, Length: 1080, dtype: object"
      ]
     },
     "execution_count": 21,
     "metadata": {},
     "output_type": "execute_result"
    }
   ],
   "source": [
    "target_colm_shuffled"
   ]
  },
  {
   "cell_type": "code",
   "execution_count": 22,
   "id": "4b316122",
   "metadata": {},
   "outputs": [],
   "source": [
    "#train-test split on train-validation data\n",
    "X_train, X_test, y_train, y_test = train_test_split(trainer_set, trainer_colm, test_size = 0.2, random_state = 44)"
   ]
  },
  {
   "cell_type": "markdown",
   "id": "61ff9fe2",
   "metadata": {},
   "source": [
    "### train test on random forest model"
   ]
  },
  {
   "cell_type": "code",
   "execution_count": 27,
   "id": "796cc791",
   "metadata": {},
   "outputs": [
    {
     "data": {
      "text/plain": [
       "[0.8256410256410256,\n",
       " 0.9025641025641026,\n",
       " 0.9487179487179487,\n",
       " 0.9846153846153847,\n",
       " 0.8102564102564103,\n",
       " 0.9076923076923077,\n",
       " 0.9538461538461539,\n",
       " 0.9846153846153847,\n",
       " 0.8102564102564103,\n",
       " 0.9179487179487179,\n",
       " 0.958974358974359,\n",
       " 0.9897435897435898,\n",
       " 0.8102564102564103,\n",
       " 0.9179487179487179,\n",
       " 0.9692307692307692,\n",
       " 0.9846153846153847]"
      ]
     },
     "execution_count": 27,
     "metadata": {},
     "output_type": "execute_result"
    }
   ],
   "source": [
    "#run random forest model with n_estimator, max_depth as hyperparameter\n",
    "n = [100,300,500,700]\n",
    "m=[1,3,6,8]\n",
    "accuracy_l = []\n",
    "\n",
    "for i in n:\n",
    "    for j in m:\n",
    "        Rd_model = RandomForestClassifier(n_estimators=i, max_depth=j)\n",
    "        Rd_model.fit(X_train, y_train)\n",
    "        pred = Rd_model.predict(X_test)\n",
    "        a = accuracy_score(y_test, pred)\n",
    "        accuracy_l.append(a)\n",
    "accuracy_l"
   ]
  },
  {
   "cell_type": "code",
   "execution_count": 33,
   "id": "a1631afa",
   "metadata": {},
   "outputs": [
    {
     "name": "stdout",
     "output_type": "stream",
     "text": [
      "   [Number of Trees,max_depth]  Accuracy\n",
      "0                     [100, 1]  0.825641\n",
      "1                     [100, 3]  0.902564\n",
      "2                     [100, 6]  0.948718\n",
      "3                     [100, 8]  0.984615\n",
      "4                     [300, 1]  0.810256\n",
      "5                     [300, 3]  0.907692\n",
      "6                     [300, 6]  0.953846\n",
      "7                     [300, 8]  0.984615\n",
      "8                     [500, 1]  0.810256\n",
      "9                     [500, 3]  0.917949\n",
      "10                    [500, 6]  0.958974\n",
      "11                    [500, 8]  0.989744\n",
      "12                    [700, 1]  0.810256\n",
      "13                    [700, 3]  0.917949\n",
      "14                    [700, 6]  0.969231\n",
      "15                    [700, 8]  0.984615\n"
     ]
    }
   ],
   "source": [
    "#make list of hyperparameters and corresponding accuracy\n",
    "ls = []\n",
    "for i in n:\n",
    "    for j in m:\n",
    "        ls.append([i,j])\n",
    "        \n",
    "d = {\"[Number of Trees,max_depth]\":ls,\"Accuracy\": accuracy_l}\n",
    "df = pd.DataFrame(d)\n",
    "print(df)"
   ]
  },
  {
   "cell_type": "code",
   "execution_count": 37,
   "id": "b7b93cb1",
   "metadata": {},
   "outputs": [
    {
     "data": {
      "text/plain": [
       "0.9897435897435898"
      ]
     },
     "execution_count": 37,
     "metadata": {},
     "output_type": "execute_result"
    }
   ],
   "source": [
    "max(accuracy_l)"
   ]
  },
  {
   "cell_type": "code",
   "execution_count": 38,
   "id": "ff02393f",
   "metadata": {},
   "outputs": [],
   "source": [
    "#make classifier for test data\n",
    "classifier = RandomForestClassifier(n_estimators=500,max_depth=8)"
   ]
  },
  {
   "cell_type": "code",
   "execution_count": 39,
   "id": "09a98a1f",
   "metadata": {},
   "outputs": [
    {
     "data": {
      "text/plain": [
       "RandomForestClassifier(max_depth=8, n_estimators=500)"
      ]
     },
     "execution_count": 39,
     "metadata": {},
     "output_type": "execute_result"
    }
   ],
   "source": [
    "#fit training data\n",
    "classifier.fit(X_train, y_train)"
   ]
  },
  {
   "cell_type": "code",
   "execution_count": 40,
   "id": "55276b88",
   "metadata": {},
   "outputs": [],
   "source": [
    "#test on testing set\n",
    "ytest_pred = classifier.predict(test_set)"
   ]
  },
  {
   "cell_type": "code",
   "execution_count": 41,
   "id": "1fc72796",
   "metadata": {},
   "outputs": [
    {
     "data": {
      "text/plain": [
       "0.9814814814814815"
      ]
     },
     "execution_count": 41,
     "metadata": {},
     "output_type": "execute_result"
    }
   ],
   "source": [
    "#accuracy\n",
    "a = accuracy_score(test_colm, ytest_pred)\n",
    "a"
   ]
  },
  {
   "cell_type": "code",
   "execution_count": null,
   "id": "bf8b9b4f",
   "metadata": {},
   "outputs": [],
   "source": []
  },
  {
   "cell_type": "markdown",
   "id": "36944a95",
   "metadata": {},
   "source": [
    "### train test on SVC"
   ]
  },
  {
   "cell_type": "code",
   "execution_count": 42,
   "id": "1c0eaf2e",
   "metadata": {},
   "outputs": [],
   "source": [
    "from sklearn.preprocessing import StandardScaler \n",
    "\n",
    "# Standardize features \n",
    "scaler = StandardScaler().fit(X_train) \n",
    "X_train_scaled = scaler.transform(X_train) \n",
    "X_test_scaled = scaler.transform(X_test) "
   ]
  },
  {
   "cell_type": "code",
   "execution_count": 67,
   "id": "b89b3c52",
   "metadata": {},
   "outputs": [],
   "source": [
    "#support vector with rbf kernel training\n",
    "from sklearn.svm import SVC \n",
    "\n",
    "Cs=[0.1, 1, 5]\n",
    "gammas = [0.1, 1, 10]\n",
    "accuracy_ls = []\n",
    "\n",
    "for i in Cs:\n",
    "    for j in gammas:\n",
    "        model = SVC(kernel='rbf', C=i, gamma=j)  \n",
    "        model.fit(X_train_scaled, y_train) \n",
    "        y_pred = model.predict(X_test_scaled) \n",
    "        accuracy = accuracy_score(y_test, y_pred) \n",
    "        accuracy_ls.append(accuracy)"
   ]
  },
  {
   "cell_type": "code",
   "execution_count": 68,
   "id": "45d1a674",
   "metadata": {},
   "outputs": [
    {
     "name": "stdout",
     "output_type": "stream",
     "text": [
      "    [C,gamma]  Accuracy\n",
      "0  [0.1, 0.1]  0.543590\n",
      "1    [0.1, 1]  0.543590\n",
      "2   [0.1, 10]  0.543590\n",
      "3    [1, 0.1]  0.989744\n",
      "4      [1, 1]  0.569231\n",
      "5     [1, 10]  0.543590\n",
      "6    [5, 0.1]  0.989744\n",
      "7      [5, 1]  0.615385\n",
      "8     [5, 10]  0.543590\n"
     ]
    }
   ],
   "source": [
    "#make list of parameter and corresponding accuracy\n",
    "hyperpara = []\n",
    "for i in Cs:\n",
    "    for j in gammas:\n",
    "        hyperpara.append([i,j])\n",
    "        \n",
    "d = {\"[C,gamma]\":hyperpara,\"Accuracy\": accuracy_ls}\n",
    "df = pd.DataFrame(d)\n",
    "print(df)"
   ]
  },
  {
   "cell_type": "markdown",
   "id": "18b95725",
   "metadata": {},
   "source": [
    "# Que 2 (d)"
   ]
  },
  {
   "cell_type": "code",
   "execution_count": 69,
   "id": "8196e76b",
   "metadata": {},
   "outputs": [],
   "source": [
    "#shuffle input data and target column\n",
    "input_data_shuffled = input_data.sample(frac=1, random_state=42) \n",
    "target_colm_shuffled = target_colm.sample(frac=1, random_state=42)"
   ]
  },
  {
   "cell_type": "code",
   "execution_count": 70,
   "id": "252b1b4d",
   "metadata": {},
   "outputs": [],
   "source": [
    "#label encoding target data\n",
    "from sklearn.preprocessing import LabelEncoder\n",
    "le = LabelEncoder()\n",
    "trainer_colm_trans= le.fit_transform(trainer_colm)"
   ]
  },
  {
   "cell_type": "code",
   "execution_count": 71,
   "id": "7c2f9424",
   "metadata": {},
   "outputs": [],
   "source": [
    "#feature extraction using RFECV\n",
    "from sklearn.feature_selection import RFECV\n",
    "from sklearn.svm import SVR\n",
    "\n",
    "estimator = SVR(kernel='linear')\n",
    "selector = RFECV(estimator, step=1, cv=5)\n",
    "selector = selector.fit(trainer_set,trainer_colm_trans)\n",
    "selects = list(selector.support_)"
   ]
  },
  {
   "cell_type": "code",
   "execution_count": 72,
   "id": "0631a91b",
   "metadata": {},
   "outputs": [
    {
     "name": "stdout",
     "output_type": "stream",
     "text": [
      "total True: 21\n"
     ]
    }
   ],
   "source": [
    "c=0\n",
    "sum=0\n",
    "ls = []\n",
    "for i in selects:\n",
    "    if (i == False):\n",
    "        sum=sum+1\n",
    "        ls.append(c)\n",
    "    c = c+1\n",
    "print(\"total True:\",sum)"
   ]
  },
  {
   "cell_type": "code",
   "execution_count": 73,
   "id": "4c2a6526",
   "metadata": {},
   "outputs": [],
   "source": [
    "ls.remove(69)"
   ]
  },
  {
   "cell_type": "code",
   "execution_count": 74,
   "id": "b0f3467a",
   "metadata": {},
   "outputs": [],
   "source": [
    "#keep important features in input data\n",
    "input_data_shuffled.drop(input_data_shuffled.columns[ls], axis=1, inplace=True)"
   ]
  },
  {
   "cell_type": "code",
   "execution_count": 75,
   "id": "37cde09d",
   "metadata": {},
   "outputs": [],
   "source": [
    "#make train-validation and test data set\n",
    "split_index = int(0.9 * len(input_data_shuffled))\n",
    "\n",
    "trainer_set = input_data_shuffled[:split_index]\n",
    "test_set = input_data_shuffled[split_index:]\n",
    "trainer_colm = target_colm_shuffled[:split_index]\n",
    "test_colm = target_colm_shuffled[split_index:]"
   ]
  },
  {
   "cell_type": "code",
   "execution_count": 77,
   "id": "331fe565",
   "metadata": {},
   "outputs": [],
   "source": [
    "#train test split\n",
    "X_train, X_test, y_train, y_test = train_test_split(trainer_set, trainer_colm, test_size = 0.2, random_state = 44)"
   ]
  },
  {
   "cell_type": "markdown",
   "id": "7cce1508",
   "metadata": {},
   "source": [
    "### train test on random forest after applying feature extraction"
   ]
  },
  {
   "cell_type": "code",
   "execution_count": 83,
   "id": "e0be95ff",
   "metadata": {},
   "outputs": [
    {
     "data": {
      "text/plain": [
       "[0.7794871794871795,\n",
       " 0.9025641025641026,\n",
       " 0.9743589743589743,\n",
       " 0.9897435897435898,\n",
       " 0.8,\n",
       " 0.9076923076923077,\n",
       " 0.958974358974359,\n",
       " 0.9846153846153847,\n",
       " 0.8307692307692308,\n",
       " 0.9076923076923077,\n",
       " 0.958974358974359,\n",
       " 0.9897435897435898,\n",
       " 0.8205128205128205,\n",
       " 0.9179487179487179,\n",
       " 0.9641025641025641,\n",
       " 0.9846153846153847]"
      ]
     },
     "execution_count": 83,
     "metadata": {},
     "output_type": "execute_result"
    }
   ],
   "source": [
    "#after keeping important features run random forest model\n",
    "n = [100, 300, 600, 900]\n",
    "m=[1,3,6,8]\n",
    "accuracy_l = []\n",
    "\n",
    "for i in n:\n",
    "    for j in m:\n",
    "        Rd_model = RandomForestClassifier(n_estimators=i, max_depth=j)\n",
    "        Rd_model.fit(X_train, y_train)\n",
    "        pred = Rd_model.predict(X_test)\n",
    "        a = accuracy_score(y_test, pred)\n",
    "        accuracy_l.append(a)\n",
    "accuracy_l"
   ]
  },
  {
   "cell_type": "code",
   "execution_count": 84,
   "id": "72934957",
   "metadata": {},
   "outputs": [
    {
     "name": "stdout",
     "output_type": "stream",
     "text": [
      "   [Number of Trees,max_depth]  Accuracy\n",
      "0                     [100, 1]  0.779487\n",
      "1                     [100, 3]  0.902564\n",
      "2                     [100, 6]  0.974359\n",
      "3                     [100, 8]  0.989744\n",
      "4                     [300, 1]  0.800000\n",
      "5                     [300, 3]  0.907692\n",
      "6                     [300, 6]  0.958974\n",
      "7                     [300, 8]  0.984615\n",
      "8                     [600, 1]  0.830769\n",
      "9                     [600, 3]  0.907692\n",
      "10                    [600, 6]  0.958974\n",
      "11                    [600, 8]  0.989744\n",
      "12                    [900, 1]  0.820513\n",
      "13                    [900, 3]  0.917949\n",
      "14                    [900, 6]  0.964103\n",
      "15                    [900, 8]  0.984615\n"
     ]
    }
   ],
   "source": [
    "#make list of hyper parameters\n",
    "ls = []\n",
    "for i in n:\n",
    "    for j in m:\n",
    "        ls.append([i,j])\n",
    "        \n",
    "d = {\"[Number of Trees,max_depth]\":ls,\"Accuracy\": accuracy_l}\n",
    "df = pd.DataFrame(d)\n",
    "print(df)"
   ]
  },
  {
   "cell_type": "code",
   "execution_count": 85,
   "id": "3a6b5613",
   "metadata": {},
   "outputs": [
    {
     "data": {
      "text/plain": [
       "0.9897435897435898"
      ]
     },
     "execution_count": 85,
     "metadata": {},
     "output_type": "execute_result"
    }
   ],
   "source": [
    "max(accuracy_l)"
   ]
  },
  {
   "cell_type": "code",
   "execution_count": 86,
   "id": "bd58fe75",
   "metadata": {},
   "outputs": [
    {
     "data": {
      "text/plain": [
       "RandomForestClassifier(max_depth=8)"
      ]
     },
     "execution_count": 86,
     "metadata": {},
     "output_type": "execute_result"
    }
   ],
   "source": [
    "#build model with best hyperparameters for test data\n",
    "classifier = RandomForestClassifier(n_estimators=100, max_depth=8)\n",
    "classifier.fit(X_train, y_train)"
   ]
  },
  {
   "cell_type": "code",
   "execution_count": 87,
   "id": "63a9414b",
   "metadata": {},
   "outputs": [
    {
     "data": {
      "text/plain": [
       "0.9814814814814815"
      ]
     },
     "execution_count": 87,
     "metadata": {},
     "output_type": "execute_result"
    }
   ],
   "source": [
    "#check accuracy on test data\n",
    "ytest_pred = classifier.predict(test_set)\n",
    "a = accuracy_score(test_colm, ytest_pred)\n",
    "a"
   ]
  },
  {
   "cell_type": "markdown",
   "id": "bb8e972e",
   "metadata": {},
   "source": [
    "### train test on SVC after applying feature extraction"
   ]
  },
  {
   "cell_type": "code",
   "execution_count": 88,
   "id": "1ee3432a",
   "metadata": {},
   "outputs": [],
   "source": [
    "from sklearn.preprocessing import StandardScaler \n",
    "\n",
    "# Standardize features \n",
    "scaler = StandardScaler().fit(X_train) \n",
    "X_train_scaled = scaler.transform(X_train) \n",
    "X_test_scaled = scaler.transform(X_test)"
   ]
  },
  {
   "cell_type": "code",
   "execution_count": 91,
   "id": "7f79339b",
   "metadata": {},
   "outputs": [],
   "source": [
    "\n",
    "from sklearn.svm import SVC \n",
    "\n",
    "Cs=[0.1, 1, 10]\n",
    "gammas = [0.01, 0.1, 1]\n",
    "accuracy_ls = []\n",
    "\n",
    "for i in Cs:\n",
    "    for j in gammas:\n",
    "        model = SVC(kernel='rbf', C=i, gamma=j)  \n",
    "        model.fit(X_train_scaled, y_train) \n",
    "        y_pred = model.predict(X_test_scaled) \n",
    "        accuracy = accuracy_score(y_test, y_pred) \n",
    "        accuracy_ls.append(accuracy)"
   ]
  },
  {
   "cell_type": "code",
   "execution_count": 92,
   "id": "1a5840e0",
   "metadata": {},
   "outputs": [
    {
     "name": "stdout",
     "output_type": "stream",
     "text": [
      "     [C,gamma]  Accuracy\n",
      "0  [0.1, 0.01]  0.882051\n",
      "1   [0.1, 0.1]  0.656410\n",
      "2     [0.1, 1]  0.543590\n",
      "3    [1, 0.01]  0.989744\n",
      "4     [1, 0.1]  1.000000\n",
      "5       [1, 1]  0.712821\n",
      "6   [10, 0.01]  1.000000\n",
      "7    [10, 0.1]  1.000000\n",
      "8      [10, 1]  0.733333\n"
     ]
    }
   ],
   "source": [
    "hyperpara = []\n",
    "for i in Cs:\n",
    "    for j in gammas:\n",
    "        hyperpara.append([i,j])\n",
    "        \n",
    "d = {\"[C,gamma]\":hyperpara,\"Accuracy\": accuracy_ls}\n",
    "df = pd.DataFrame(d)\n",
    "print(df)"
   ]
  },
  {
   "cell_type": "code",
   "execution_count": 102,
   "id": "dd4ffac4",
   "metadata": {},
   "outputs": [],
   "source": [
    "model = SVC(kernel='rbf', C=1, gamma=0.01)  \n",
    "model.fit(X_train_scaled, y_train)\n",
    "\n",
    "tester_data = test_set\n",
    "new_data_scaled = scaler.transform(tester_data)\n",
    "predictions = model.predict(new_data_scaled)"
   ]
  },
  {
   "cell_type": "code",
   "execution_count": 103,
   "id": "b999e639",
   "metadata": {},
   "outputs": [
    {
     "name": "stdout",
     "output_type": "stream",
     "text": [
      "Accuracy: 0.9814814814814815\n"
     ]
    }
   ],
   "source": [
    "accuracy = accuracy_score(test_colm, predictions) \n",
    "print('Accuracy:', accuracy)"
   ]
  },
  {
   "cell_type": "code",
   "execution_count": null,
   "id": "33f4473a",
   "metadata": {},
   "outputs": [],
   "source": []
  },
  {
   "cell_type": "code",
   "execution_count": null,
   "id": "57ca279a",
   "metadata": {},
   "outputs": [],
   "source": []
  }
 ],
 "metadata": {
  "kernelspec": {
   "display_name": "Python 3 (ipykernel)",
   "language": "python",
   "name": "python3"
  },
  "language_info": {
   "codemirror_mode": {
    "name": "ipython",
    "version": 3
   },
   "file_extension": ".py",
   "mimetype": "text/x-python",
   "name": "python",
   "nbconvert_exporter": "python",
   "pygments_lexer": "ipython3",
   "version": "3.9.13"
  }
 },
 "nbformat": 4,
 "nbformat_minor": 5
}
